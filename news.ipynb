{
 "cells": [
  {
   "cell_type": "code",
   "execution_count": 287,
   "metadata": {},
   "outputs": [
    {
     "name": "stderr",
     "output_type": "stream",
     "text": [
      "[nltk_data] Downloading package stopwords to D:\\nltk_data...\n",
      "[nltk_data]   Package stopwords is already up-to-date!\n"
     ]
    },
    {
     "data": {
      "text/plain": [
       "True"
      ]
     },
     "execution_count": 287,
     "metadata": {},
     "output_type": "execute_result"
    }
   ],
   "source": [
    "# Import necessary libraries\n",
    "import pandas as pd\n",
    "import numpy as np\n",
    "import spacy\n",
    "import re\n",
    "import nltk\n",
    "from nltk.corpus import stopwords\n",
    "from sklearn.model_selection import train_test_split\n",
    "from sklearn.linear_model import LinearRegression\n",
    "from sklearn.ensemble import RandomForestRegressor\n",
    "from sklearn.metrics import mean_absolute_error\n",
    "import matplotlib.pyplot as plt\n",
    "import seaborn as sns\n",
    "# Download NLTK stopwords\n",
    "nltk.download('stopwords')\n"
   ]
  },
  {
   "cell_type": "code",
   "execution_count": 288,
   "metadata": {},
   "outputs": [],
   "source": [
    "# Step 1: Data Collection\n",
    "def load_dataset(file_path):\n",
    "    try:\n",
    "        data = pd.read_csv(file_path, encoding=\"latin1\")\n",
    "    except FileNotFoundError:\n",
    "        print(f\"File not found: {file_path}\")\n",
    "        raise\n",
    "    except UnicodeDecodeError as e:\n",
    "        print(f\"Encoding error: {e}\")\n",
    "        raise\n",
    "    return data\n"
   ]
  },
  {
   "cell_type": "code",
   "execution_count": 289,
   "metadata": {},
   "outputs": [],
   "source": [
    "# Step 2: Text Preprocessing\n",
    "def preprocess_text(text):\n",
    "    # Remove HTML tags, special characters, and extra whitespace\n",
    "    text = re.sub(r'<.*?>', '', text)\n",
    "    text = re.sub(r'[\\^\\w\\s]', '', text)\n",
    "    text = re.sub(r'\\s+', ' ', text).strip()\n",
    "\n",
    "    # Convert text to lowercase\n",
    "    text = text.lower()\n",
    "\n",
    "    # Tokenize and remove stopwords\n",
    "    stop_words = set(stopwords.words('english'))\n",
    "    words = text.split()\n",
    "    words = [word for word in words if word not in stop_words]\n",
    "\n",
    "    return ' '.join(words)\n",
    "\n",
    "# Apply preprocessing to dataset\n",
    "def preprocess_dataset(data):\n",
    "    if 'article_text' not in data.columns:\n",
    "        raise ValueError(\"Column 'article_text' not found in the dataset.\")\n",
    "\n",
    "    data['cleaned_text'] = data['article_text'].apply(preprocess_text)\n",
    "    return data\n"
   ]
  },
  {
   "cell_type": "code",
   "execution_count": 290,
   "metadata": {},
   "outputs": [],
   "source": [
    "# Step 3: Named Entity Recognition (NER)\n",
    "def perform_ner(data):\n",
    "    nlp = spacy.load(\"en_core_web_sm\")\n",
    "\n",
    "    org_counts = []\n",
    "    gpe_counts = []\n",
    "    person_counts = []\n",
    "\n",
    "    for doc in nlp.pipe(data['cleaned_text'], batch_size=50):\n",
    "        org_counts.append(len([ent for ent in doc.ents if ent.label_ == 'ORG']))\n",
    "        gpe_counts.append(len([ent for ent in doc.ents if ent.label_ == 'GPE']))\n",
    "        person_counts.append(len([ent for ent in doc.ents if ent.label_ == 'PERSON']))\n",
    "\n",
    "    data['org_count'] = org_counts\n",
    "    data['gpe_count'] = gpe_counts\n",
    "    data['person_count'] = person_counts\n",
    "    return data"
   ]
  },
  {
   "cell_type": "code",
   "execution_count": 291,
   "metadata": {},
   "outputs": [],
   "source": [
    "# Step 4: Feature Engineering\n",
    "def add_features(data):\n",
    "    # Add article length feature\n",
    "    data['article_length'] = data['cleaned_text'].apply(lambda x: len(x.split()))\n",
    "\n",
    "    # Add sentiment score (placeholder for sentiment analysis function)\n",
    "    data['sentiment_score'] = np.random.uniform(-1, 1, size=len(data))  # Replace with actual sentiment analysis\n",
    "\n",
    "    return data"
   ]
  },
  {
   "cell_type": "code",
   "execution_count": 292,
   "metadata": {},
   "outputs": [],
   "source": [
    "# Step 5: Predictive Modeling\n",
    "def train_predictive_model(data):\n",
    "    features = ['org_count', 'gpe_count', 'person_count', 'article_length', 'sentiment_score']\n",
    "    target = 'engagement_metric'  # Replace with the actual target column in the dataset\n",
    "\n",
    "    if target not in data.columns:\n",
    "        raise ValueError(f\"Target column '{target}' not found in dataset!\")\n",
    "\n",
    "    X = data[features]\n",
    "    y = data[target]\n",
    "\n",
    "    # Split data into training and test sets\n",
    "    X_train, X_test, y_train, y_test = train_test_split(X, y, test_size=0.2, random_state=42)\n",
    "\n",
    "    # Train Linear Regression model\n",
    "    lr_model = LinearRegression()\n",
    "    lr_model.fit(X_train, y_train)\n",
    "\n",
    "    # Train Random Forest Regressor\n",
    "    rf_model = RandomForestRegressor(random_state=42)\n",
    "    rf_model.fit(X_train, y_train)\n",
    "\n",
    "    # Evaluate models\n",
    "    lr_predictions = lr_model.predict(X_test)\n",
    "    rf_predictions = rf_model.predict(X_test)\n",
    "\n",
    "    print(\"Linear Regression MAE:\", mean_absolute_error(y_test, lr_predictions))\n",
    "    print(\"Random Forest MAE:\", mean_absolute_error(y_test, rf_predictions))\n",
    "\n",
    "    return lr_model, rf_model\n"
   ]
  },
  {
   "cell_type": "code",
   "execution_count": 293,
   "metadata": {},
   "outputs": [],
   "source": [
    "# Step 6: Data Visualization\n",
    "def visualize_data(data):\n",
    "    plt.figure(figsize=(10, 6))\n",
    "    sns.histplot(data['article_length'], kde=True, bins=30, color='blue')\n",
    "    plt.title(\"Distribution of Article Length\")\n",
    "    plt.xlabel(\"Article Length (words)\")\n",
    "    plt.ylabel(\"Frequency\")\n",
    "    plt.show()\n",
    "\n",
    "    plt.figure(figsize=(10, 6))\n",
    "    sns.scatterplot(x='article_length', y='engagement_metric', data=data, color='red')\n",
    "    plt.title(\"Article Length vs. Engagement Metric\")\n",
    "    plt.xlabel(\"Article Length (words)\")\n",
    "    plt.ylabel(\"Engagement Metric\")\n",
    "    plt.show()\n",
    "\n",
    "# Main Workflow\n",
    "    \n",
    "def main():\n",
    "    file_path = \"Articles.csv\"  # File uploaded by user\n",
    "def preprocess_dataset(data):\n",
    "    print(\"Available columns in the dataset:\", data.columns)  # Add this line for debugging\n",
    "    if 'article_text' not in data.columns:\n",
    "        raise ValueError(\"Column 'article_text' not found in the dataset.\")\n",
    "    data['cleaned_text'] = data['article_text'].apply(preprocess_text)\n",
    "    return data\n",
    "\n",
    "    # Load and preprocess data\n",
    "    data = load_dataset(file_path)\n",
    "    data = preprocess_dataset(data)\n",
    "\n",
    "    # Perform NER and feature engineering\n",
    "    data = perform_ner(data)\n",
    "    data = add_features(data)\n",
    "\n",
    "    # Train predictive models\n",
    "    train_predictive_model(data)\n",
    "\n",
    "    # Visualize data\n",
    "    visualize_data(data)\n",
    "\n",
    "if __name__ == \"__main__\":\n",
    "    main()\n"
   ]
  },
  {
   "cell_type": "code",
   "execution_count": 294,
   "metadata": {},
   "outputs": [
    {
     "name": "stdout",
     "output_type": "stream",
     "text": [
      "Dataset Overview:\n",
      "<class 'pandas.core.frame.DataFrame'>\n",
      "RangeIndex: 2692 entries, 0 to 2691\n",
      "Data columns (total 4 columns):\n",
      " #   Column    Non-Null Count  Dtype \n",
      "---  ------    --------------  ----- \n",
      " 0   Article   2692 non-null   object\n",
      " 1   Date      2692 non-null   object\n",
      " 2   Heading   2692 non-null   object\n",
      " 3   NewsType  2692 non-null   object\n",
      "dtypes: object(4)\n",
      "memory usage: 84.2+ KB\n",
      "None\n",
      "\n",
      "Sample Rows:\n",
      "                                             Article      Date  \\\n",
      "0  KARACHI: The Sindh government has decided to b...  1/1/2015   \n",
      "1  HONG KONG: Asian markets started 2015 on an up...  1/2/2015   \n",
      "2  HONG KONG:  Hong Kong shares opened 0.66 perce...  1/5/2015   \n",
      "3  HONG KONG: Asian markets tumbled Tuesday follo...  1/6/2015   \n",
      "4  NEW YORK: US oil prices Monday slipped below $...  1/6/2015   \n",
      "\n",
      "                                             Heading  NewsType  \n",
      "0  sindh govt decides to cut public transport far...  business  \n",
      "1                    asia stocks up in new year trad  business  \n",
      "2           hong kong stocks open 0.66 percent lower  business  \n",
      "3             asian stocks sink euro near nine year   business  \n",
      "4                 us oil prices slip below 50 a barr  business  \n",
      "\n",
      "NewsType Distribution:\n",
      "NewsType\n",
      "sports      1408\n",
      "business    1284\n",
      "Name: count, dtype: int64\n"
     ]
    },
    {
     "data": {
      "image/png": "[encoded data removed]",
      "text/plain": [
       "<Figure size 640x480 with 1 Axes>"
      ]
     },
     "metadata": {},
     "output_type": "display_data"
    },
    {
     "name": "stdout",
     "output_type": "stream",
     "text": [
      "\n",
      "Article Length Statistics:\n",
      "count    2692.000000\n",
      "mean      291.274889\n",
      "std       173.758439\n",
      "min        32.000000\n",
      "25%       166.000000\n",
      "50%       263.500000\n",
      "75%       381.000000\n",
      "max      3051.000000\n",
      "Name: article_length, dtype: float64\n"
     ]
    },
    {
     "data": {
      "image/png": "[encoded data removed]",
      "text/plain": [
       "<Figure size 640x480 with 1 Axes>"
      ]
     },
     "metadata": {},
     "output_type": "display_data"
    },
    {
     "name": "stdout",
     "output_type": "stream",
     "text": [
      "\n",
      "Features and Target for Modeling:\n",
      "   article_length  engagement_metric\n",
      "0             106          38.675006\n",
      "1             736          25.920631\n",
      "2              37           8.266160\n",
      "3             523          57.236168\n",
      "4             606          24.461850\n"
     ]
    }
   ],
   "source": [
    "# Adjusted Workflow for Dataset Analysis\n",
    "\n",
    "# Load dataset and basic analysis\n",
    "data = pd.read_csv(\"Articles.csv\", encoding=\"latin1\")\n",
    "print(\"Dataset Overview:\")\n",
    "print(data.info())\n",
    "print(\"\\nSample Rows:\")\n",
    "print(data.head())\n",
    "\n",
    "# Rename column\n",
    "data.rename(columns={\"Article\": \"article_text\"}, inplace=True)\n",
    "\n",
    "# Add placeholder target column for modeling\n",
    "data[\"engagement_metric\"] = np.random.uniform(0, 100, size=len(data))\n",
    "\n",
    "# Convert Date column to datetime\n",
    "data[\"Date\"] = pd.to_datetime(data[\"Date\"], errors=\"coerce\")\n",
    "\n",
    "# Analyze NewsType distribution\n",
    "news_type_counts = data[\"NewsType\"].value_counts()\n",
    "print(\"\\nNewsType Distribution:\")\n",
    "print(news_type_counts)\n",
    "\n",
    "# Visualize NewsType distribution\n",
    "news_type_counts.plot(kind=\"bar\", title=\"NewsType Distribution\", color=\"skyblue\")\n",
    "plt.xlabel(\"News Type\")\n",
    "plt.ylabel(\"Frequency\")\n",
    "plt.show()\n",
    "\n",
    "# Analyze article length\n",
    "data[\"article_length\"] = data[\"article_text\"].apply(lambda x: len(str(x).split()))\n",
    "print(\"\\nArticle Length Statistics:\")\n",
    "print(data[\"article_length\"].describe())\n",
    "\n",
    "# Visualize article length\n",
    "sns.histplot(data[\"article_length\"], kde=True, bins=30, color=\"blue\")\n",
    "plt.title(\"Article Length Distribution\")\n",
    "plt.xlabel(\"Number of Words\")\n",
    "plt.ylabel(\"Frequency\")\n",
    "plt.show()\n",
    "\n",
    "# Placeholder modeling steps (if required)\n",
    "print(\"\\nFeatures and Target for Modeling:\")\n",
    "print(data[[\"article_length\", \"engagement_metric\"]].head())\n"
   ]
  }
 ],
 "metadata": {
  "kernelspec": {
   "display_name": "Python 3",
   "language": "python",
   "name": "python3"
  },
  "language_info": {
   "codemirror_mode": {
    "name": "ipython",
    "version": 3
   },
   "file_extension": ".py",
   "mimetype": "text/x-python",
   "name": "python",
   "nbconvert_exporter": "python",
   "pygments_lexer": "ipython3",
   "version": "3.10.11"
  }
 },
 "nbformat": 4,
 "nbformat_minor": 2
}
